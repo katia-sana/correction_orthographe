{
 "cells": [
  {
   "cell_type": "markdown",
   "metadata": {},
   "source": [
    "# Correction d'orthographe avec Enchant"
   ]
  },
  {
   "cell_type": "code",
   "execution_count": 4,
   "metadata": {
    "collapsed": true
   },
   "outputs": [],
   "source": [
    "import enchant\n",
    "d = enchant.Dict(\"en_US\")\n",
    "path = \"/home/katia/Documents/Bollore_Bot/POC-NLP/Manuel d'utilisation/ManuelUtilisateurIPAKI_V01_RevueMN.txt\" \n",
    "\n",
    "pwl = enchant.request_pwl_dict(path)"
   ]
  },
  {
   "cell_type": "code",
   "execution_count": 3,
   "metadata": {
    "collapsed": true
   },
   "outputs": [],
   "source": [
    "from gensim.models import Word2Vec\n",
    "from nltk.corpus import brown, movie_reviews, treebank\n",
    "b = Word2Vec(brown.sents())\n",
    "mr = Word2Vec(movie_reviews.sents())\n",
    "t = Word2Vec(treebank.sents())"
   ]
  },
  {
   "cell_type": "code",
   "execution_count": 27,
   "metadata": {},
   "outputs": [
    {
     "data": {
      "text/plain": [
       "[(u'care', 0.9145620465278625),\n",
       " (u'chance', 0.903496503829956),\n",
       " (u'job', 0.8980700373649597),\n",
       " (u'trouble', 0.8751336336135864),\n",
       " (u'everything', 0.8738477230072021)]"
      ]
     },
     "execution_count": 27,
     "metadata": {},
     "output_type": "execute_result"
    }
   ],
   "source": [
    "b.most_similar('money', topn=5)"
   ]
  },
  {
   "cell_type": "code",
   "execution_count": 22,
   "metadata": {},
   "outputs": [
    {
     "name": "stdout",
     "output_type": "stream",
     "text": [
      "entrer le mot à corriger:'raw'\n"
     ]
    }
   ],
   "source": [
    "word = input('entrer le mot à corriger:') #input string entre deux cotes"
   ]
  },
  {
   "cell_type": "code",
   "execution_count": 23,
   "metadata": {},
   "outputs": [
    {
     "name": "stdout",
     "output_type": "stream",
     "text": [
      "raw\n"
     ]
    }
   ],
   "source": [
    "type(word)\n",
    "\n",
    "print(word)"
   ]
  },
  {
   "cell_type": "code",
   "execution_count": 25,
   "metadata": {
    "collapsed": true
   },
   "outputs": [],
   "source": [
    "from gensim.models import Word2Vec\n",
    "#lecture de du fichier texte\n",
    "dictmot= open(\"/home/katia/Documents/Bollore_Bot/POC-NLP/Manuel d'utilisation/ManuelUtilisateurIPAKI_V01_RevueMN.txt\",\"r\") \n",
    "data.read()\n"
   ]
  },
  {
   "cell_type": "code",
   "execution_count": 1,
   "metadata": {
    "collapsed": true
   },
   "outputs": [],
   "source": [
    "import hunspell\n",
    "spellchecker = hunspell.HunSpell('/usr/share/hunspell/fr_FR.dic','/usr/share/hunspell/fr_FR.aff')"
   ]
  },
  {
   "cell_type": "code",
   "execution_count": 40,
   "metadata": {},
   "outputs": [
    {
     "data": {
      "text/plain": [
       "False"
      ]
     },
     "execution_count": 40,
     "metadata": {},
     "output_type": "execute_result"
    }
   ],
   "source": [
    "spellchecker.spell('qualite')"
   ]
  },
  {
   "cell_type": "code",
   "execution_count": 35,
   "metadata": {},
   "outputs": [
    {
     "data": {
      "text/plain": [
       "[u'transparurent']"
      ]
     },
     "execution_count": 35,
     "metadata": {},
     "output_type": "execute_result"
    }
   ],
   "source": [
    "spellchecker.suggest('trenspurt')"
   ]
  },
  {
   "cell_type": "code",
   "execution_count": 8,
   "metadata": {},
   "outputs": [
    {
     "data": {
      "text/plain": [
       "'ISO8859-15'"
      ]
     },
     "execution_count": 8,
     "metadata": {},
     "output_type": "execute_result"
    }
   ],
   "source": [
    "spellchecker.get_dic_encoding()"
   ]
  },
  {
   "cell_type": "code",
   "execution_count": 13,
   "metadata": {},
   "outputs": [
    {
     "data": {
      "text/plain": [
       "u'initialiser'"
      ]
     },
     "execution_count": 13,
     "metadata": {},
     "output_type": "execute_result"
    }
   ],
   "source": [
    "enc = spellchecker.get_dic_encoding()\n",
    "suggestions = spellchecker.suggest('relnltialiser')\n",
    "autocorrected = suggestions[0].decode(enc)\n",
    "autocorrected"
   ]
  },
  {
   "cell_type": "code",
   "execution_count": 48,
   "metadata": {
    "collapsed": true
   },
   "outputs": [],
   "source": [
    "def correct_words(spellchecker, words, add_to_dict=[]):   \n",
    "    enc = spellchecker.get_dic_encoding()   # get the encoding for later use in decode()\n",
    "\n",
    "    # add custom words to the dictionary\n",
    "    for w in add_to_dict:\n",
    "        spellchecker.add(w)\n",
    "\n",
    "    # auto-correct words\n",
    "    corrected = []\n",
    "    for w in words:\n",
    "        ok = spellchecker.spell(w)   # check spelling\n",
    "        if not ok:\n",
    "            suggestions = spellchecker.suggest(w)\n",
    "            if len(suggestions) > 0:  # there are suggestions\n",
    "                best = suggestions[0].decode(enc)   # best suggestions (decoded to str)\n",
    "                corrected.append(best)\n",
    "            else:\n",
    "                corrected.append(w)  # there's no suggestion for a correct word\n",
    "        else:\n",
    "            corrected.append(w)   # this word is correct\n",
    "\n",
    "    return corrected"
   ]
  },
  {
   "cell_type": "code",
   "execution_count": 50,
   "metadata": {},
   "outputs": [
    {
     "name": "stdout",
     "output_type": "stream",
     "text": [
      "[u'Mouvement', u'extraire', u'Modestement', u'reinisialiser', u'transparurent']\n"
     ]
    }
   ],
   "source": [
    "add_to_dict = ['destination','reinisialiser','qualité']\n",
    "words = ['Mouvemem','extrawre','Destmetmn','relnltialiser','trenspurt']\n",
    "correcte = correct_words(spellchecker, words, add_to_dict)\n",
    "print(correcte)\n"
   ]
  }
 ],
 "metadata": {
  "kernelspec": {
   "display_name": "Python 2",
   "language": "python",
   "name": "python2"
  },
  "language_info": {
   "codemirror_mode": {
    "name": "ipython",
    "version": 2
   },
   "file_extension": ".py",
   "mimetype": "text/x-python",
   "name": "python",
   "nbconvert_exporter": "python",
   "pygments_lexer": "ipython2",
   "version": "2.7.13"
  }
 },
 "nbformat": 4,
 "nbformat_minor": 2
}
